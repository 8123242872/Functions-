{
  "nbformat": 4,
  "nbformat_minor": 0,
  "metadata": {
    "colab": {
      "provenance": []
    },
    "kernelspec": {
      "name": "python3",
      "display_name": "Python 3"
    },
    "language_info": {
      "name": "python"
    }
  },
  "cells": [
    {
      "cell_type": "markdown",
      "source": [
        "#Functions"
      ],
      "metadata": {
        "id": "0qINwvTT9c37"
      }
    },
    {
      "cell_type": "code",
      "source": [
        "#1.What is the difference between a function and a method in Python?\n",
        "\"\"\"\n",
        "A function is a structured, reusable code block utilized for carrying out a specific task. Functions facilitate the creation of modular code, simplifying maintenance and reusability.\n",
        "\"\"\"\n",
        "def greet(name):\n",
        "    return f\"Hello, {name}!\"\n",
        "\n",
        "\"\"\"\n",
        "A method is a function that is associated with an object or class. It operates on the data encapsulated within the object. Methods are invoked using the dot notation (object.method()).\n",
        "\"\"\"\n",
        "class Person:\n",
        "    def __init__(self, name):\n",
        "        self.name = name\n",
        "\n",
        "        def greet(self):\n",
        "            return f\"Hello, {self.name}!\"\n",
        "\n",
        "            person = Person(\"Alice\")\n",
        "            print(person.greet())  # Output: Hello, Alice!\n",
        "            print(greet(\"Bob\"))    # Output: Hello, Bob!\n",
        "\"\"\""
      ],
      "metadata": {
        "id": "Dhfd8yHu9kmy"
      },
      "execution_count": null,
      "outputs": []
    },
    {
      "cell_type": "code",
      "source": [
        "#2. Explain the concept of function arguments and parameters in Python.\n",
        "\"\"\"\n",
        "Function arguments are the values passed to a function when it is called. Parameters are the variables defined in the function signature that receive these arguments.\n",
        "\"\"\"\n",
        "def add(x, y):\n",
        "    return x + y\n",
        "    result = add(3, 5)  # Here, 3 and 5 are arguments passed to the add function.\n",
        "    print(result)       # Output: 8\n",
        "\"\"\""
      ],
      "metadata": {
        "id": "a8sR66PJ-4Ew"
      },
      "execution_count": null,
      "outputs": []
    },
    {
      "cell_type": "code",
      "source": [
        "#3.What are the different ways to define and call a function in Python?\n",
        "\"\"\"\n",
        "Defining a function in Python involves using the def keyword followed by the function name, parameters, and a colon. The function body is indented.\n",
        "\"\"\"\n",
        "def greet(name):\n",
        "    return f\"Hello, {name}!\"\n",
        "    result = greet(\"Alice\")\n",
        "    print(result)  # Output: Hello, Alice!\n",
        "\n",
        "    \"\"\"\n",
        "    Calling a function involves using the function name followed by parentheses containing the arguments.\n",
        "    \"\"\"\n",
        "    result = greet(\"Bob\")\n",
        "    print(result)  # Output: Hello, Bob!\n",
        "\n",
        "    \"\"\"\n",
        "    Functions can also be defined using lambda expressions, which are concise and anonymous.\n",
        "    \"\"\"\n",
        "    add = lambda x, y: x + y\n",
        "    result = add(3, 5)\n",
        "    print(result)  # Output: 8\n",
        "\n",
        "    \"\"\"\n",
        "    Functions can be defined within other functions, creating nested functions.\n",
        "    \"\"\"\n",
        "    def outer_function():\n",
        "        def inner_function():\n",
        "            return \"Inner function\"\n",
        "            return inner_function()\n",
        "            print(outer_function())  # Output: Inner function\n",
        "            \"\"\"\n",
        "            Functions can be passed as arguments to other functions, enabling higher-order functions.\n",
        "            \"\"\"\n",
        "            def apply_function(func, x):\n",
        "                return func(x)\n",
        "                result = apply_function(lambda x: x * 2, 5)\n",
        "                print(result)  # Output: 10\n",
        "                \"\"\"\n",
        "                Functions can be returned from other functions, allowing for the creation of closures.\n",
        "                \"\"\"\n",
        "                def outer_function(msg):\n",
        "                    def inner_function():\n",
        "                        return msg\n",
        "                        return inner_function\n",
        "                        greeting = outer_function(\"Hello\")\n",
        "                        print(greeting())  # Output: Hello\n",
        "                        \"\"\"\n",
        "                        Functions can be defined using the functools.partial function, which partially applies arguments to a function.\n",
        "                        \"\"\"\n",
        "                        from functools import partial\n",
        "                        multiply_by_2 = partial(lambda x, y: x * y, z)\n",
        "\"\"\""
      ],
      "metadata": {
        "id": "Kd2HWwbp_NjQ"
      },
      "execution_count": null,
      "outputs": []
    },
    {
      "cell_type": "code",
      "source": [
        "#4.What is the purpose of the `return` statement in a Python function?\n",
        "\"\"\"\n",
        "The return statement in a Python function is used to specify the value that the function should return when it is called. It allows functions to produce results that can be used in other parts of the program.\n",
        "\"\"\"\n",
        "def add(x, y):\n",
        "    result = x + y\n",
        "    return result\n",
        "\"\"\""
      ],
      "metadata": {
        "id": "BEpuu09m_9WR"
      },
      "execution_count": null,
      "outputs": []
    },
    {
      "cell_type": "code",
      "source": [
        "#5.What are iterators in Python and how do they differ from iterables?\n",
        "\"\"\"\n",
        "Iterators in Python are objects that implement the iterator protocol, which consists of the __iter__() and __next__() methods. Iterators are used to iterate over sequences, such as lists, tuples, or custom objects, one element at a time.\n",
        "\"\"\""
      ],
      "metadata": {
        "id": "L0b2mIBIAQQ4"
      },
      "execution_count": null,
      "outputs": []
    },
    {
      "cell_type": "code",
      "source": [
        "#6.Explain the concept of generators in Python and how they are defined.\n",
        "\"\"\"\n",
        "Generators in Python are a concise way to create iterators. They are defined using the yield keyword instead of return. When a generator function is called, it returns a generator object that can be iterated over.\n",
        "\"\"\"\n",
        "def my_generator():\n",
        "    yield 1\n",
        "    yield 2\n",
        "\"\"\""
      ],
      "metadata": {
        "id": "zYpPNTJGAb7_"
      },
      "execution_count": null,
      "outputs": []
    },
    {
      "cell_type": "code",
      "source": [
        "#7.What are the advantages of using generators over regular functions?\n",
        "\"\"\"\n",
        "Generators are memory-efficient because they generate values on-the-fly, avoiding the need to store the entire sequence in memory.\n",
        "Generators can be used to create infinite sequences or streams of data.\n",
        "Generators can be paused and resumed, allowing for more flexible control over the iteration process.\n",
        "\"\"\""
      ],
      "metadata": {
        "id": "BAJsyymXAmUH"
      },
      "execution_count": null,
      "outputs": []
    },
    {
      "cell_type": "code",
      "source": [
        "#8.What is a lambda function in Python and when is it typically used?\n",
        "\"\"\"\n",
        "Lambda functions in Python are anonymous functions that can have any number of arguments but can only have one expression. They are typically used for short, simple operations where defining a full function using the def keyword would be unnecessary.\n",
        "\"\"\""
      ],
      "metadata": {
        "id": "HOYI3--1BLep"
      },
      "execution_count": null,
      "outputs": []
    },
    {
      "cell_type": "code",
      "source": [
        "#9.Explain the purpose and usage of the `map()` function in Python.\n",
        "\"\"\"\n",
        "The map() function in Python applies a specified function to each item in an iterable (e.g., list, tuple) and returns an iterator containing the results.\n",
        "\"\"\"\n",
        "numbers = [1, 2, 3, 4, 5]\n",
        "squared_numbers = map(lambda x: x * x, numbers)\n",
        "print(list(squared_numbers))  # Output: [1, 4, 9, 16, 25]\n",
        "\"\"\""
      ],
      "metadata": {
        "id": "RTcGGRQRBsWY"
      },
      "execution_count": null,
      "outputs": []
    },
    {
      "cell_type": "code",
      "source": [
        "#10.What is the difference between `map()`, `reduce()`, and `filter()` functions in Python?\n",
        "\"\"\"\n",
        "The map() function applies a specified function to each item in an iterable and returns an iterator containing the results.\n",
        "The reduce() function applies a specified function cumulatively to the items of an iterable, reducing it to a single value.\n",
        "The filter() function constructs an iterator from elements of an iterable for which a specified\n",
        "function returns True.\n",
        "\"\"\""
      ],
      "metadata": {
        "id": "O0OB0SuqCmcQ"
      },
      "execution_count": null,
      "outputs": []
    },
    {
      "cell_type": "code",
      "source": [
        "#11.Using pen & Paper write the internal mechanism for sum operation using  reduce function on this given list:[47,11,42,13];\n",
        "\"\"\"\n",
        "Please attached PDF for solution of this question\n",
        "\"\"\"\n"
      ],
      "metadata": {
        "id": "IYY1asP9CyQP"
      },
      "execution_count": null,
      "outputs": []
    },
    {
      "cell_type": "markdown",
      "source": [
        "#Practical Questions"
      ],
      "metadata": {
        "id": "pcd7yHlBHpiW"
      }
    },
    {
      "cell_type": "code",
      "source": [
        "#1. Write a Python function that takes a list of numbers as input and returns the sum of all even numbers inthe list.\n",
        "def sum_even_numbers(numbers):\n",
        "    return sum(num for num in numbers if num % 2 == 0)"
      ],
      "metadata": {
        "id": "i_d09st1Hx-t"
      },
      "execution_count": null,
      "outputs": []
    },
    {
      "cell_type": "code",
      "source": [
        "#2.Create a Python function that accepts a string and returns the reverse of that string.\n",
        "def reverse_string(input_string):\n",
        "    return input_string[::-1]"
      ],
      "metadata": {
        "id": "S-Q6qLvlH9sM"
      },
      "execution_count": null,
      "outputs": []
    },
    {
      "cell_type": "code",
      "source": [
        "#3.Implement a Python function that takes a list of integers and returns a new list containing the squares of each number.\n",
        "def square_numbers(numbers):\n",
        "    # Use list comprehension to create a new list with squared values\n",
        "    return [x ** 2 for x in numbers]\n",
        "\n",
        "# Example usage\n",
        "numbers = [1, 2, 3, 4, 5]\n",
        "squared_numbers = square_numbers(numbers)\n",
        "\n",
        "print(squared_numbers)  # Output: [1, 4, 9, 16, 25]"
      ],
      "metadata": {
        "id": "UNceipswIFQN"
      },
      "execution_count": null,
      "outputs": []
    },
    {
      "cell_type": "code",
      "source": [
        "#4. Write a Python function that checks if a given number is prime or not from 1 to 200.\n",
        "import math\n",
        "\n",
        "def is_prime(n):\n",
        "    # Check for numbers less than or equal to 1\n",
        "    if n <= 1:\n",
        "        return False\n",
        "    # Check for divisibility from 2 to sqrt(n)\n",
        "    for i in range(2, int(math.sqrt(n)) + 1):\n",
        "        if n % i == 0:\n",
        "            return False\n",
        "    return True\n",
        "\n",
        "# Example usage: Checking for prime numbers from 1 to 200\n",
        "primes = [n for n in range(1, 201) if is_prime(n)]\n",
        "\n",
        "print(primes)  # Output: List of prime numbers from 1 to 200\n"
      ],
      "metadata": {
        "id": "sDfkS2Q_Idg8"
      },
      "execution_count": null,
      "outputs": []
    },
    {
      "cell_type": "code",
      "source": [
        "#5.Create an iterator class in Python that generates the Fibonacci sequence up to a specified number of terms.\n",
        "class FibonacciIterator:\n",
        "    def __init__(self, num_terms):\n",
        "        self.num_terms = num_terms\n",
        "        self.current_term = 0\n",
        "        self.next_term = 1\n",
        "        self.count = 0\n",
        "\n",
        "    def __iter__(self):\n",
        "        return self\n",
        "        def __next__(self):\n",
        "            if self.count >= self.num_terms:\n",
        "                raise StopIteration\n",
        "                result = self.current_term\n",
        "                self.current_term, self.next_term = self.next_term, self.current_term + self.next_term\n",
        "                self.count += 1\n",
        "                return result\n",
        "                fibonacci_iterator = FibonacciIterator(10)\n",
        "                for term in fibonacci_iterator:\n",
        "                    print(term)\n",
        "\n",
        "\n"
      ],
      "metadata": {
        "id": "29ZsbGREI0DU"
      },
      "execution_count": null,
      "outputs": []
    },
    {
      "cell_type": "code",
      "source": [
        "#6.Write a generator function in Python that yields the powers of 2 up to a given exponent.\n",
        "def powers_of_2(exponent):\n",
        "    for i in range(exponent + 1):\n",
        "        yield 2 ** i\n",
        "\n",
        "# Example usage: Generating powers of 2 up to exponent 5\n",
        "for power in powers_of_2(5):\n",
        "    print(power)"
      ],
      "metadata": {
        "id": "w7s0knN_JMXF"
      },
      "execution_count": null,
      "outputs": []
    },
    {
      "cell_type": "code",
      "source": [
        "#7.Implement a generator function that reads a file line by line and yields each line as a string.\n",
        "\n",
        "def read_file_line_by_line(file_path):\n",
        "    with open(file_path, 'r') as file:\n",
        "        for line in file:\n",
        "            yield line.strip()\n",
        "            file_path = 'example.txt'\n",
        "            for line in read_file_line_by_line(file_path):\n",
        "                print(line)"
      ],
      "metadata": {
        "id": "4xpn2YEPJT8s"
      },
      "execution_count": null,
      "outputs": []
    },
    {
      "cell_type": "code",
      "source": [
        "#8.Use a lambda function in Python to sort a list of tuples based on the second element of each tuple.\n",
        "# List of tuples\n",
        "tuples_list = [(1, 3), (2, 1), (3, 2), (4, 4)]\n",
        "\n",
        "# Use sorted() with a lambda function to sort based on the second element of each tuple\n",
        "sorted_tuples = sorted(tuples_list, key=lambda x: x[1])\n",
        "\n",
        "print(sorted_tuples)  # Output: [(2, 1), (3, 2), (1, 3), (4, 4)]\n"
      ],
      "metadata": {
        "id": "4ldIpa5ZJgSM"
      },
      "execution_count": null,
      "outputs": []
    },
    {
      "cell_type": "code",
      "source": [
        "#9. Write a Python program that uses `map()` to convert a list of temperatures from Celsius to Fahrenheit.\n",
        "# List of temperatures in Celsius\n",
        "celsius_temperatures = [0, 10, 20, 30, 40, 50]\n",
        "\n",
        "# Function to convert Celsius to Fahrenheit\n",
        "def celsius_to_fahrenheit(celsius):\n",
        "    return (9/5) * celsius + 32\n",
        "\n",
        "# Use map() to apply the conversion function to each element in the list\n",
        "fahrenheit_temperatures = list(map(celsius_to_fahrenheit, celsius_temperatures))\n",
        "\n",
        "# Output the list of temperatures in Fahrenheit\n",
        "print(fahrenheit_temperatures)\n",
        "\n"
      ],
      "metadata": {
        "id": "hmDpvjUqJywk"
      },
      "execution_count": null,
      "outputs": []
    },
    {
      "cell_type": "code",
      "source": [
        "#10. Create a Python program that uses `filter()` to remove all the vowels from a given string.\n",
        "\n",
        "# Function to check if a character is not a vowel\n",
        "def is_not_vowel(char):\n",
        "    return char.lower() not in 'aeiou'\n",
        "\n",
        "# Input string\n",
        "input_string = \"Hello, World!\"\n",
        "\n",
        "# Use filter() to remove vowels\n",
        "filtered_string = ''.join(filter(is_not_vowel, input_string))\n",
        "\n",
        "# Output the string without vowels\n",
        "print(filtered_string)\n"
      ],
      "metadata": {
        "id": "Y99-0Da9KAFs"
      },
      "execution_count": null,
      "outputs": []
    },
    {
      "cell_type": "code",
      "source": [
        "#11. Imagine an accounting routine used in a book shop. It works on a list with sublists, which look like this:\n",
        "\"\"\"\n",
        "order number   Book Title and author                   Quantity     Price per Item\n",
        "---------------------------------------------------------------------------------\n",
        "34587          Learning python, Mark Lutz               4            40.95\n",
        "98762          Programing Python, Mark Lutz             2            56.80\n",
        "77226          Head First Python, Paul Barry            3            32.95\n",
        "88112          Einfuhrung in python3, Bernd klein       3            24.99\n",
        "\"\"\"\n",
        "#Write a Python program, which returns a list with 2-tuples. Each tuple consists of the order number and the product of the price per item and the quantity. The product should be increased by 10,- € if the value of the\n",
        "#order is smaller than 100,00 €. Write a Python program using lambda and map.\n",
        "\n",
        "# List of orders: Each order is represented as a sublist with order number, book title, quantity, and price per item\n",
        "orders = [\n",
        "    [34587, 'Learning python, Mark Lutz', 4, 40.95],\n",
        "    [98762, 'Programming Python, Mark Lutz', 2, 56.80],\n",
        "    [77226, 'Head First Python, Paul Barry', 3, 32.95],\n",
        "    [88112, 'Einfuhrung in python3, Bernd Klein', 3, 24.99]\n",
        "]\n",
        "\n",
        "# Use map() with a lambda function to compute the total price and apply the €10 increase if necessary\n",
        "result = list(map(lambda order: (order[0], (order[2] * order[3]) + 10) if (order[2] * order[3]) < 100 else (order[0], order[2] * order[3]), orders))\n",
        "\n",
        "# Output the result\n",
        "print(result)\n",
        "\n"
      ],
      "metadata": {
        "id": "rBnHS8EVKMBs"
      },
      "execution_count": null,
      "outputs": []
    }
  ]
}